{
 "cells": [
  {
   "cell_type": "markdown",
   "metadata": {},
   "source": [
    "### Find unique accession numbers in upregulated lists"
   ]
  },
  {
   "cell_type": "code",
   "execution_count": 1,
   "metadata": {},
   "outputs": [],
   "source": [
    "import pandas as pd"
   ]
  },
  {
   "cell_type": "code",
   "execution_count": 2,
   "metadata": {},
   "outputs": [],
   "source": [
    "df21 = pd.read_csv('/Users/gbatzel/Desktop/venn/up/up_21.txt', index_col=0)\n",
    "df31 = pd.read_csv('/Users/gbatzel/Desktop/venn/up/up_31.txt', index_col=0)\n",
    "df32 = pd.read_csv('/Users/gbatzel/Desktop/venn/up/up_32.txt', index_col=0)\n",
    "df41 = pd.read_csv('/Users/gbatzel/Desktop/venn/up/up_42.txt', index_col=0)\n",
    "df42 = pd.read_csv('/Users/gbatzel/Desktop/venn/up/up_42.txt', index_col=0)\n",
    "df43 = pd.read_csv('/Users/gbatzel/Desktop/venn/up/up_43.txt', index_col=0)"
   ]
  },
  {
   "cell_type": "code",
   "execution_count": 3,
   "metadata": {},
   "outputs": [],
   "source": [
    "df21d = pd.read_csv('/Users/gbatzel/Desktop/venn/down/down_21.txt', index_col=0)\n",
    "df31d = pd.read_csv('/Users/gbatzel/Desktop/venn/down/down_31.txt', index_col=0)\n",
    "df32d = pd.read_csv('/Users/gbatzel/Desktop/venn/down/down_32.txt', index_col=0)\n",
    "df41d = pd.read_csv('/Users/gbatzel/Desktop/venn/down/down_42.txt', index_col=0)\n",
    "df42d = pd.read_csv('/Users/gbatzel/Desktop/venn/down/down_42.txt', index_col=0)\n",
    "df43d = pd.read_csv('/Users/gbatzel/Desktop/venn/down/down_43.txt', index_col=0)"
   ]
  },
  {
   "cell_type": "markdown",
   "metadata": {},
   "source": [
    "### Unique genes in mantle"
   ]
  },
  {
   "cell_type": "code",
   "execution_count": 4,
   "metadata": {},
   "outputs": [],
   "source": [
    "# Need to concat up 41,42,43 and sort unique\n",
    "mantle_concat = pd.concat([df41, df42, df43])"
   ]
  },
  {
   "cell_type": "code",
   "execution_count": 5,
   "metadata": {},
   "outputs": [],
   "source": [
    "mantle_concat.to_csv('mantle_total.txt')"
   ]
  },
  {
   "cell_type": "code",
   "execution_count": 6,
   "metadata": {
    "scrolled": true
   },
   "outputs": [
    {
     "name": "stdout",
     "output_type": "stream",
     "text": [
      "     261\n"
     ]
    }
   ],
   "source": [
    "%%bash\n",
    "# Unique genes in mantle\n",
    "sort mantle_total.txt | uniq | wc -l"
   ]
  },
  {
   "cell_type": "code",
   "execution_count": 7,
   "metadata": {},
   "outputs": [],
   "source": [
    "%%bash\n",
    "# Unique genes in mantle\n",
    "sort mantle_total.txt | uniq > mantle_test.txt"
   ]
  },
  {
   "cell_type": "markdown",
   "metadata": {},
   "source": [
    "### Unique genes in head"
   ]
  },
  {
   "cell_type": "code",
   "execution_count": 8,
   "metadata": {},
   "outputs": [],
   "source": [
    "# Need to concat up 31,32 and down 43\n",
    "head_concat = pd.concat([df31, df32, df43d])"
   ]
  },
  {
   "cell_type": "code",
   "execution_count": 9,
   "metadata": {},
   "outputs": [],
   "source": [
    "head_concat.to_csv('head_total.txt')"
   ]
  },
  {
   "cell_type": "code",
   "execution_count": 10,
   "metadata": {},
   "outputs": [
    {
     "name": "stdout",
     "output_type": "stream",
     "text": [
      "     589\n"
     ]
    }
   ],
   "source": [
    "%%bash\n",
    "# Unique genes in head\n",
    "sort head_total.txt | uniq | wc -l"
   ]
  },
  {
   "cell_type": "code",
   "execution_count": 11,
   "metadata": {},
   "outputs": [],
   "source": [
    "%%bash\n",
    "# Unique genes in head\n",
    "sort head_total.txt | uniq > head_test.txt"
   ]
  },
  {
   "cell_type": "markdown",
   "metadata": {},
   "source": [
    "### Unique genes in gill"
   ]
  },
  {
   "cell_type": "code",
   "execution_count": 12,
   "metadata": {},
   "outputs": [],
   "source": [
    "# Need to concat up 21, down 32, 42\n",
    "gill_concat = pd.concat([df21, df32d, df42d])"
   ]
  },
  {
   "cell_type": "code",
   "execution_count": 13,
   "metadata": {},
   "outputs": [],
   "source": [
    "gill_concat.to_csv('gill_total.txt')"
   ]
  },
  {
   "cell_type": "code",
   "execution_count": 14,
   "metadata": {},
   "outputs": [
    {
     "name": "stdout",
     "output_type": "stream",
     "text": [
      "     676\n"
     ]
    }
   ],
   "source": [
    "%%bash\n",
    "# Unique genes in gill\n",
    "sort gill_total.txt | uniq | wc -l"
   ]
  },
  {
   "cell_type": "code",
   "execution_count": 15,
   "metadata": {},
   "outputs": [],
   "source": [
    "%%bash\n",
    "# Unique genes in gill\n",
    "sort gill_total.txt | uniq > gill_test.txt"
   ]
  },
  {
   "cell_type": "markdown",
   "metadata": {},
   "source": [
    "### Upregulated genes in foot"
   ]
  },
  {
   "cell_type": "code",
   "execution_count": 16,
   "metadata": {},
   "outputs": [],
   "source": [
    "# Need to concat down 21, 31, 41\n",
    "foot_concat = pd.concat([df21d, df31d, df41d])"
   ]
  },
  {
   "cell_type": "code",
   "execution_count": 17,
   "metadata": {},
   "outputs": [],
   "source": [
    "foot_concat.to_csv('foot_total.txt')"
   ]
  },
  {
   "cell_type": "code",
   "execution_count": 18,
   "metadata": {
    "scrolled": true
   },
   "outputs": [
    {
     "name": "stdout",
     "output_type": "stream",
     "text": [
      "     948\n"
     ]
    }
   ],
   "source": [
    "%%bash\n",
    "# Unique genes in foot\n",
    "sort foot_total.txt | uniq | wc -l"
   ]
  },
  {
   "cell_type": "code",
   "execution_count": 19,
   "metadata": {},
   "outputs": [],
   "source": [
    "%%bash\n",
    "# Unique genes in foot\n",
    "sort foot_total.txt | uniq > foot_test.txt"
   ]
  },
  {
   "cell_type": "code",
   "execution_count": null,
   "metadata": {},
   "outputs": [],
   "source": []
  }
 ],
 "metadata": {
  "kernelspec": {
   "display_name": "Python 3",
   "language": "python",
   "name": "python3"
  },
  "language_info": {
   "codemirror_mode": {
    "name": "ipython",
    "version": 3
   },
   "file_extension": ".py",
   "mimetype": "text/x-python",
   "name": "python",
   "nbconvert_exporter": "python",
   "pygments_lexer": "ipython3",
   "version": "3.5.4"
  }
 },
 "nbformat": 4,
 "nbformat_minor": 2
}
