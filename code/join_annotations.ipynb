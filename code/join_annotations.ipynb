{
 "cells": [
  {
   "cell_type": "markdown",
   "metadata": {},
   "source": [
    "## Match logFC values to annotation\n",
    "Given a column with gene and logFC values, match it to another column with genes and annotations"
   ]
  },
  {
   "cell_type": "code",
   "execution_count": 3,
   "metadata": {},
   "outputs": [],
   "source": [
    "import pandas as pd"
   ]
  },
  {
   "cell_type": "code",
   "execution_count": 4,
   "metadata": {},
   "outputs": [],
   "source": [
    "# Load csv containing logFC and gene values to left variable, and annotations to right variable\n",
    "left = pd.read_csv('43_foldchange.csv', index_col=0, header=0, sep=' ')\n",
    "right = pd.read_csv('right.43.csv', index_col=0, header=0, sep=',')"
   ]
  },
  {
   "cell_type": "code",
   "execution_count": 5,
   "metadata": {},
   "outputs": [
    {
     "data": {
      "text/html": [
       "<div>\n",
       "<style scoped>\n",
       "    .dataframe tbody tr th:only-of-type {\n",
       "        vertical-align: middle;\n",
       "    }\n",
       "\n",
       "    .dataframe tbody tr th {\n",
       "        vertical-align: top;\n",
       "    }\n",
       "\n",
       "    .dataframe thead th {\n",
       "        text-align: right;\n",
       "    }\n",
       "</style>\n",
       "<table border=\"1\" class=\"dataframe\">\n",
       "  <thead>\n",
       "    <tr style=\"text-align: right;\">\n",
       "      <th></th>\n",
       "      <th>logFC</th>\n",
       "    </tr>\n",
       "    <tr>\n",
       "      <th>gene</th>\n",
       "      <th></th>\n",
       "    </tr>\n",
       "  </thead>\n",
       "  <tbody>\n",
       "    <tr>\n",
       "      <th>TRINITY_DN144158_c3_g1_i4</th>\n",
       "      <td>11.317616</td>\n",
       "    </tr>\n",
       "    <tr>\n",
       "      <th>TRINITY_DN109055_c4_g1_i10</th>\n",
       "      <td>15.411094</td>\n",
       "    </tr>\n",
       "    <tr>\n",
       "      <th>TRINITY_DN102687_c0_g1_i1</th>\n",
       "      <td>12.638447</td>\n",
       "    </tr>\n",
       "    <tr>\n",
       "      <th>TRINITY_DN144158_c3_g1_i7</th>\n",
       "      <td>10.725622</td>\n",
       "    </tr>\n",
       "    <tr>\n",
       "      <th>TRINITY_DN126331_c0_g1_i3</th>\n",
       "      <td>12.692786</td>\n",
       "    </tr>\n",
       "  </tbody>\n",
       "</table>\n",
       "</div>"
      ],
      "text/plain": [
       "                                logFC\n",
       "gene                                 \n",
       "TRINITY_DN144158_c3_g1_i4   11.317616\n",
       "TRINITY_DN109055_c4_g1_i10  15.411094\n",
       "TRINITY_DN102687_c0_g1_i1   12.638447\n",
       "TRINITY_DN144158_c3_g1_i7   10.725622\n",
       "TRINITY_DN126331_c0_g1_i3   12.692786"
      ]
     },
     "execution_count": 5,
     "metadata": {},
     "output_type": "execute_result"
    }
   ],
   "source": [
    "left.head()"
   ]
  },
  {
   "cell_type": "code",
   "execution_count": 6,
   "metadata": {},
   "outputs": [
    {
     "data": {
      "text/html": [
       "<div>\n",
       "<style scoped>\n",
       "    .dataframe tbody tr th:only-of-type {\n",
       "        vertical-align: middle;\n",
       "    }\n",
       "\n",
       "    .dataframe tbody tr th {\n",
       "        vertical-align: top;\n",
       "    }\n",
       "\n",
       "    .dataframe thead th {\n",
       "        text-align: right;\n",
       "    }\n",
       "</style>\n",
       "<table border=\"1\" class=\"dataframe\">\n",
       "  <thead>\n",
       "    <tr style=\"text-align: right;\">\n",
       "      <th></th>\n",
       "      <th>Description</th>\n",
       "      <th>E Value</th>\n",
       "      <th>Name</th>\n",
       "    </tr>\n",
       "    <tr>\n",
       "      <th>gene</th>\n",
       "      <th></th>\n",
       "      <th></th>\n",
       "      <th></th>\n",
       "    </tr>\n",
       "  </thead>\n",
       "  <tbody>\n",
       "    <tr>\n",
       "      <th>TRINITY_DN141695_c2_g1_i6</th>\n",
       "      <td>RecName: Full=Trypsin I-P1; Flags: Precursor</td>\n",
       "      <td>9.540000e-02</td>\n",
       "      <td>Q90627 (TRY1_CHICK)</td>\n",
       "    </tr>\n",
       "    <tr>\n",
       "      <th>TRINITY_DN129397_c5_g4_i1</th>\n",
       "      <td>RecName: Full=Myophilin</td>\n",
       "      <td>5.360000e-36</td>\n",
       "      <td>Q24799 (MYPH_ECHGR)</td>\n",
       "    </tr>\n",
       "    <tr>\n",
       "      <th>TRINITY_DN149308_c23_g1_i1</th>\n",
       "      <td>RecName: Full=Ryanodine receptor; AltName: Ful...</td>\n",
       "      <td>0.000000e+00</td>\n",
       "      <td>Q24498 (RYR_DROME)</td>\n",
       "    </tr>\n",
       "    <tr>\n",
       "      <th>TRINITY_DN149258_c19_g1_i2</th>\n",
       "      <td>RecName: Full=Twitchin; AltName: Full=Uncoordi...</td>\n",
       "      <td>0.000000e+00</td>\n",
       "      <td>Q23551 (UNC22_CAEEL)</td>\n",
       "    </tr>\n",
       "    <tr>\n",
       "      <th>TRINITY_DN142849_c4_g2_i1</th>\n",
       "      <td>RecName: Full=Cysteine and glycine-rich protei...</td>\n",
       "      <td>3.770000e-33</td>\n",
       "      <td>Q16527 (CSRP2_HUMAN)</td>\n",
       "    </tr>\n",
       "  </tbody>\n",
       "</table>\n",
       "</div>"
      ],
      "text/plain": [
       "                                                                  Description  \\\n",
       "gene                                                                            \n",
       "TRINITY_DN141695_c2_g1_i6        RecName: Full=Trypsin I-P1; Flags: Precursor   \n",
       "TRINITY_DN129397_c5_g4_i1                             RecName: Full=Myophilin   \n",
       "TRINITY_DN149308_c23_g1_i1  RecName: Full=Ryanodine receptor; AltName: Ful...   \n",
       "TRINITY_DN149258_c19_g1_i2  RecName: Full=Twitchin; AltName: Full=Uncoordi...   \n",
       "TRINITY_DN142849_c4_g2_i1   RecName: Full=Cysteine and glycine-rich protei...   \n",
       "\n",
       "                                 E Value                  Name  \n",
       "gene                                                            \n",
       "TRINITY_DN141695_c2_g1_i6   9.540000e-02   Q90627 (TRY1_CHICK)  \n",
       "TRINITY_DN129397_c5_g4_i1   5.360000e-36   Q24799 (MYPH_ECHGR)  \n",
       "TRINITY_DN149308_c23_g1_i1  0.000000e+00    Q24498 (RYR_DROME)  \n",
       "TRINITY_DN149258_c19_g1_i2  0.000000e+00  Q23551 (UNC22_CAEEL)  \n",
       "TRINITY_DN142849_c4_g2_i1   3.770000e-33  Q16527 (CSRP2_HUMAN)  "
      ]
     },
     "execution_count": 6,
     "metadata": {},
     "output_type": "execute_result"
    }
   ],
   "source": [
    "right.head()"
   ]
  },
  {
   "cell_type": "code",
   "execution_count": 7,
   "metadata": {},
   "outputs": [],
   "source": [
    "# Join left and right variables on index 'gene' into df variable\n",
    "df = left.join(right, how='left')"
   ]
  },
  {
   "cell_type": "code",
   "execution_count": 8,
   "metadata": {},
   "outputs": [
    {
     "data": {
      "text/html": [
       "<div>\n",
       "<style scoped>\n",
       "    .dataframe tbody tr th:only-of-type {\n",
       "        vertical-align: middle;\n",
       "    }\n",
       "\n",
       "    .dataframe tbody tr th {\n",
       "        vertical-align: top;\n",
       "    }\n",
       "\n",
       "    .dataframe thead th {\n",
       "        text-align: right;\n",
       "    }\n",
       "</style>\n",
       "<table border=\"1\" class=\"dataframe\">\n",
       "  <thead>\n",
       "    <tr style=\"text-align: right;\">\n",
       "      <th></th>\n",
       "      <th>logFC</th>\n",
       "      <th>Description</th>\n",
       "      <th>E Value</th>\n",
       "      <th>Name</th>\n",
       "    </tr>\n",
       "    <tr>\n",
       "      <th>gene</th>\n",
       "      <th></th>\n",
       "      <th></th>\n",
       "      <th></th>\n",
       "      <th></th>\n",
       "    </tr>\n",
       "  </thead>\n",
       "  <tbody>\n",
       "    <tr>\n",
       "      <th>TRINITY_DN144158_c3_g1_i4</th>\n",
       "      <td>11.317616</td>\n",
       "      <td>NaN</td>\n",
       "      <td>NaN</td>\n",
       "      <td>NaN</td>\n",
       "    </tr>\n",
       "    <tr>\n",
       "      <th>TRINITY_DN109055_c4_g1_i10</th>\n",
       "      <td>15.411094</td>\n",
       "      <td>RecName: Full=Inactive serine protease 54; Alt...</td>\n",
       "      <td>9.550000e-02</td>\n",
       "      <td>Q6PEW0 (PRS54_HUMAN)</td>\n",
       "    </tr>\n",
       "    <tr>\n",
       "      <th>TRINITY_DN102687_c0_g1_i1</th>\n",
       "      <td>12.638447</td>\n",
       "      <td>RecName: Full=Beta-1,3-glucan-binding protein;...</td>\n",
       "      <td>3.940000e-78</td>\n",
       "      <td>Q8N0N3 (BGBP_PENMO)</td>\n",
       "    </tr>\n",
       "    <tr>\n",
       "      <th>TRINITY_DN144158_c3_g1_i7</th>\n",
       "      <td>10.725622</td>\n",
       "      <td>RecName: Full=Tenascin-R; Short=TN-R; AltName:...</td>\n",
       "      <td>5.360000e+00</td>\n",
       "      <td>Q00546 (TENR_CHICK)</td>\n",
       "    </tr>\n",
       "    <tr>\n",
       "      <th>TRINITY_DN126331_c0_g1_i3</th>\n",
       "      <td>12.692786</td>\n",
       "      <td>NaN</td>\n",
       "      <td>NaN</td>\n",
       "      <td>NaN</td>\n",
       "    </tr>\n",
       "  </tbody>\n",
       "</table>\n",
       "</div>"
      ],
      "text/plain": [
       "                                logFC  \\\n",
       "gene                                    \n",
       "TRINITY_DN144158_c3_g1_i4   11.317616   \n",
       "TRINITY_DN109055_c4_g1_i10  15.411094   \n",
       "TRINITY_DN102687_c0_g1_i1   12.638447   \n",
       "TRINITY_DN144158_c3_g1_i7   10.725622   \n",
       "TRINITY_DN126331_c0_g1_i3   12.692786   \n",
       "\n",
       "                                                                  Description  \\\n",
       "gene                                                                            \n",
       "TRINITY_DN144158_c3_g1_i4                                                 NaN   \n",
       "TRINITY_DN109055_c4_g1_i10  RecName: Full=Inactive serine protease 54; Alt...   \n",
       "TRINITY_DN102687_c0_g1_i1   RecName: Full=Beta-1,3-glucan-binding protein;...   \n",
       "TRINITY_DN144158_c3_g1_i7   RecName: Full=Tenascin-R; Short=TN-R; AltName:...   \n",
       "TRINITY_DN126331_c0_g1_i3                                                 NaN   \n",
       "\n",
       "                                 E Value                  Name  \n",
       "gene                                                            \n",
       "TRINITY_DN144158_c3_g1_i4            NaN                   NaN  \n",
       "TRINITY_DN109055_c4_g1_i10  9.550000e-02  Q6PEW0 (PRS54_HUMAN)  \n",
       "TRINITY_DN102687_c0_g1_i1   3.940000e-78   Q8N0N3 (BGBP_PENMO)  \n",
       "TRINITY_DN144158_c3_g1_i7   5.360000e+00   Q00546 (TENR_CHICK)  \n",
       "TRINITY_DN126331_c0_g1_i3            NaN                   NaN  "
      ]
     },
     "execution_count": 8,
     "metadata": {},
     "output_type": "execute_result"
    }
   ],
   "source": [
    "df.head()"
   ]
  },
  {
   "cell_type": "code",
   "execution_count": 9,
   "metadata": {},
   "outputs": [],
   "source": [
    "# Export df variable csv\n",
    "df.to_csv('43_redo_annotation.csv')"
   ]
  },
  {
   "cell_type": "code",
   "execution_count": 10,
   "metadata": {},
   "outputs": [
    {
     "name": "stdout",
     "output_type": "stream",
     "text": [
      "151\n"
     ]
    }
   ],
   "source": [
    "%%bash\n",
    "grep \"TRINITY\" -c 43_redo_annotation.csv"
   ]
  },
  {
   "cell_type": "code",
   "execution_count": 11,
   "metadata": {},
   "outputs": [
    {
     "name": "stdout",
     "output_type": "stream",
     "text": [
      "     152\n"
     ]
    }
   ],
   "source": [
    "%%bash\n",
    "# Unique rows in file\n",
    "sort 43_redo_annotation.csv | uniq | wc -l"
   ]
  },
  {
   "cell_type": "code",
   "execution_count": 12,
   "metadata": {},
   "outputs": [],
   "source": [
    "%%bash\n",
    "# save unique rows to csv\n",
    "sort 43_redo_annotation.csv | uniq > 43_redo_final_annotation.csv"
   ]
  },
  {
   "cell_type": "code",
   "execution_count": null,
   "metadata": {},
   "outputs": [],
   "source": []
  }
 ],
 "metadata": {
  "kernelspec": {
   "display_name": "Python 3",
   "language": "python",
   "name": "python3"
  },
  "language_info": {
   "codemirror_mode": {
    "name": "ipython",
    "version": 3
   },
   "file_extension": ".py",
   "mimetype": "text/x-python",
   "name": "python",
   "nbconvert_exporter": "python",
   "pygments_lexer": "ipython3",
   "version": "3.5.4"
  }
 },
 "nbformat": 4,
 "nbformat_minor": 2
}
